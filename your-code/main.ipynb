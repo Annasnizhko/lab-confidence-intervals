{
 "cells": [
  {
   "cell_type": "markdown",
   "metadata": {},
   "source": [
    "# Confidence Intervals"
   ]
  },
  {
   "cell_type": "code",
   "execution_count": 5,
   "metadata": {},
   "outputs": [],
   "source": [
    "# Libraries\n",
    "import numpy as np\n",
    "from scipy import stats\n",
    "import math\n"
   ]
  },
  {
   "cell_type": "markdown",
   "metadata": {},
   "source": [
    "## Challenge 1\n",
    "We want to estimate the average size of the men of a country with a confidence level of 80%. Assuming that the standard deviation of the sizes in the population is 4, get the confidence interval with a sample of men selected randomly, whose heights are:\n",
    "\n",
    "````\n",
    "heights = [167, 167, 168, 168, 168, 169, 171, 172, 173, 175, 175, 175, 177, 182, 195]\n",
    "````\n",
    "\n",
    "**Hint**: function `stats.norm.interval` from `scipy` can help you get through this exercise. "
   ]
  },
  {
   "cell_type": "code",
   "execution_count": 2,
   "metadata": {},
   "outputs": [
    {
     "name": "stdout",
     "output_type": "stream",
     "text": [
      "80% Confidence Interval: [172.14, 174.79]\n"
     ]
    }
   ],
   "source": [
    "# your code here\n",
    "heights = [167, 167, 168, 168, 168, 169, 171, 172, 173, 175, 175, 175, 177, 182, 195]\n",
    "\n",
    "# Calculate the sample mean\n",
    "sample_mean = np.mean(heights)\n",
    "\n",
    "# Calculate the standard error of the mean\n",
    "standard_error = 4 / np.sqrt(len(heights))\n",
    "\n",
    "# Calculate the 80% confidence interval\n",
    "confidence_level = 0.8\n",
    "alpha = 1 - confidence_level\n",
    "lower, upper = stats.norm.interval(confidence_level, loc=sample_mean, scale=standard_error)\n",
    "\n",
    "print(f\"80% Confidence Interval: [{lower:.2f}, {upper:.2f}]\")"
   ]
  },
  {
   "cell_type": "markdown",
   "metadata": {},
   "source": [
    "## Challenge 2 \n",
    "In a sample of 105 shops selected randomly from an area, we note that 27 of them have had losses in this month. Get an interval for the proportion of businesses in the area with losses to a confidence level of 80% and a confidence level of 90%.\n",
    "\n",
    "**Hint**: function `stats.norm.interval` from `scipy` can help you get through this exercise. "
   ]
  },
  {
   "cell_type": "code",
   "execution_count": 3,
   "metadata": {},
   "outputs": [
    {
     "name": "stdout",
     "output_type": "stream",
     "text": [
      "80% Confidence Interval: [0.2025, 0.3118]\n",
      "90% Confidence Interval: [0.1870, 0.3273]\n"
     ]
    }
   ],
   "source": [
    "# your code here\n",
    "\n",
    "n = 105  \n",
    "x = 27  \n",
    "\n",
    "# Calculate sample proportion\n",
    "p_hat = x / n\n",
    "\n",
    "# Calculate standard error\n",
    "standard_error = np.sqrt((p_hat * (1 - p_hat)) / n)\n",
    "\n",
    "# Confidence levels\n",
    "confidence_levels = [0.8, 0.9]\n",
    "\n",
    "# Calculate confidence intervals\n",
    "confidence_intervals = {}\n",
    "for confidence_level in confidence_levels:\n",
    "    alpha = 1 - confidence_level\n",
    "    z_score = stats.norm.ppf(1 - alpha / 2)  # two-tailed\n",
    "    margin_of_error = z_score * standard_error\n",
    "    lower_bound = p_hat - margin_of_error\n",
    "    upper_bound = p_hat + margin_of_error\n",
    "    confidence_intervals[confidence_level] = (lower_bound, upper_bound)\n",
    "\n",
    "# Print results\n",
    "for cl, interval in confidence_intervals.items():\n",
    "    print(f\"{int(cl * 100)}% Confidence Interval: [{interval[0]:.4f}, {interval[1]:.4f}]\")"
   ]
  },
  {
   "cell_type": "markdown",
   "metadata": {},
   "source": [
    "## Bonus Challenge\n",
    "The error level or sampling error for the first challenge is given by the following expression:\n",
    "$$Error = z_{\\frac{\\alpha}{2}}\\frac{\\sigma}{\\sqrt n}$$\n",
    "Where z represents the value for N(0,1)\n",
    "\n",
    "\n",
    "Suppose that with the previous data of challenge 1, and with a confidence level of\n",
    "99% (that is, almost certainly) we want to estimate the average population size, so that the error level committed is not greater than half a centimeter.\n",
    "\n",
    "#### 1.- Determine what size the selected sample of men should be."
   ]
  },
  {
   "cell_type": "code",
   "execution_count": 6,
   "metadata": {},
   "outputs": [
    {
     "name": "stdout",
     "output_type": "stream",
     "text": [
      "Required sample size: 425\n"
     ]
    }
   ],
   "source": [
    "# your code here\n",
    "confidence_level = 0.99\n",
    "alpha = 1 - confidence_level\n",
    "desired_error = 0.5  # in cm\n",
    "sigma = 4  # assumed population standard deviation in cm\n",
    "\n",
    "# Find the z-value for the given confidence level\n",
    "z_alpha_over_2 = stats.norm.ppf(1 - alpha / 2)\n",
    "\n",
    "# Calculate the required sample size\n",
    "n = (z_alpha_over_2 * sigma / desired_error) ** 2\n",
    "\n",
    "# Since sample size must be a whole number, we round up\n",
    "required_sample_size = math.ceil(n)\n",
    "\n",
    "print(f\"Required sample size: {required_sample_size}\")"
   ]
  },
  {
   "cell_type": "markdown",
   "metadata": {},
   "source": [
    "#### 2.- For the second challenge, we have the following error:\n",
    "$$ Error = z_{\\frac{\\alpha}{2}}\\sqrt{\\frac{p\\times q}{n}} $$\n",
    "#### Determine the sample size required to not exceed an error of 1% with a confidence of 80%."
   ]
  },
  {
   "cell_type": "code",
   "execution_count": 7,
   "metadata": {},
   "outputs": [
    {
     "name": "stdout",
     "output_type": "stream",
     "text": [
      "Required sample size: 4106\n"
     ]
    }
   ],
   "source": [
    "# your code here\n",
    "confidence_level = 0.80\n",
    "alpha = 1 - confidence_level\n",
    "desired_error = 0.01  # 1%\n",
    "p = 0.5  # estimated proportion (maximum variability)\n",
    "q = 1 - p  # complement of p\n",
    "\n",
    "# Find the z-value for the given confidence level\n",
    "z_alpha_over_2 = stats.norm.ppf(1 - alpha / 2)\n",
    "\n",
    "# Calculate the required sample size\n",
    "n = (z_alpha_over_2 ** 2 * p * q) / (desired_error ** 2)\n",
    "\n",
    "# Since sample size must be a whole number, we round up\n",
    "required_sample_size = math.ceil(n)\n",
    "\n",
    "print(f\"Required sample size: {required_sample_size}\")"
   ]
  },
  {
   "cell_type": "markdown",
   "metadata": {},
   "source": [
    "## Bonus Challenge\n",
    "\n",
    "Let's consider the following problem:\n",
    "\n",
    "Build a confidence interval of 94% for the real difference between the durations of two brands of spotlights, if a sample of 40 spotlights taken randomly from the first mark gave an average duration of 418 hours, and a sample of 50 bulbs of another brand gave a duration average of 402 hours. The standard deviations of the two\n",
    "populations are 26 hours and 22 hours, respectively.\n",
    "\n",
    "Sometimes, we will be interested in the difference of two different groups of random variables. We can also build a confidence interval for that! We have some different cases regarding the variance but for this specific case (the variance are different and known), we have that:\n",
    "\n",
    "$$\\overline{X} - \\overline{Y}  \\sim N(\\mu_{X} - \\mu_{Y} , \\sqrt{\\frac{\\sigma_{X}^2}{n_X}+\\frac{\\sigma_{Y}^2}{n_Y}})$$\n",
    "\n",
    "Solve the problem with this information."
   ]
  },
  {
   "cell_type": "code",
   "execution_count": 8,
   "metadata": {},
   "outputs": [
    {
     "name": "stdout",
     "output_type": "stream",
     "text": [
      "94% Confidence Interval for the difference: (6.30, 25.70)\n"
     ]
    }
   ],
   "source": [
    "# your code here\n",
    "n_X = 40\n",
    "mean_X = 418\n",
    "sigma_X = 26\n",
    "\n",
    "n_Y = 50\n",
    "mean_Y = 402\n",
    "sigma_Y = 22\n",
    "\n",
    "# Calculate the difference in means\n",
    "D = mean_X - mean_Y\n",
    "\n",
    "# Calculate the standard error of the difference\n",
    "SE = math.sqrt((sigma_X**2 / n_X) + (sigma_Y**2 / n_Y))\n",
    "\n",
    "# Calculate the z-value for the 94% confidence level\n",
    "confidence_level = 0.94\n",
    "alpha = 1 - confidence_level\n",
    "z_alpha_over_2 = stats.norm.ppf(1 - alpha / 2)\n",
    "\n",
    "# Calculate the margin of error\n",
    "ME = z_alpha_over_2 * SE\n",
    "\n",
    "# Construct the confidence interval\n",
    "CI_lower = D - ME\n",
    "CI_upper = D + ME\n",
    "\n",
    "print(f\"94% Confidence Interval for the difference: ({CI_lower:.2f}, {CI_upper:.2f})\")"
   ]
  },
  {
   "cell_type": "code",
   "execution_count": null,
   "metadata": {},
   "outputs": [],
   "source": []
  }
 ],
 "metadata": {
  "kernelspec": {
   "display_name": "Python 3 (ipykernel)",
   "language": "python",
   "name": "python3"
  },
  "language_info": {
   "codemirror_mode": {
    "name": "ipython",
    "version": 3
   },
   "file_extension": ".py",
   "mimetype": "text/x-python",
   "name": "python",
   "nbconvert_exporter": "python",
   "pygments_lexer": "ipython3",
   "version": "3.10.6"
  },
  "toc": {
   "base_numbering": 1,
   "nav_menu": {},
   "number_sections": true,
   "sideBar": true,
   "skip_h1_title": false,
   "title_cell": "Table of Contents",
   "title_sidebar": "Contents",
   "toc_cell": false,
   "toc_position": {},
   "toc_section_display": true,
   "toc_window_display": false
  }
 },
 "nbformat": 4,
 "nbformat_minor": 2
}
